{
  "cells": [
    {
      "cell_type": "markdown",
      "metadata": {
        "id": "view-in-github",
        "colab_type": "text"
      },
      "source": [
        "<a href=\"https://colab.research.google.com/github/uniesecruz/Estudos/blob/master/Python_Fundamentos.ipynb\" target=\"_parent\"><img src=\"https://colab.research.google.com/assets/colab-badge.svg\" alt=\"Open In Colab\"/></a>"
      ]
    },
    {
      "cell_type": "markdown",
      "source": [
        "## Varíaveis: Armazenamento de dados <a class=\"anchor\" id=\"tres\"></a>\n",
        "\n",
        "&emsp; Váriaveis como o próprio diz são \"coisas\" variáveis, e usaremos elas para armazenar nossos dados.<br>\n",
        "\n",
        "&emsp; Dados possuem tipos: **_string_** que armazena texto, **_int_** que armazena números inteiros, **_float_** que armazena números decimais (separados por ponto!), e **_boolean_** que armazenará _true_ ou _false_. Embora o Python faça o trabalho de saber o que é o que sozinho, você precisa entender os tipos de dados para trabalhar com eles.<br>"
      ],
      "metadata": {
        "id": "MHIM13beeT1t"
      },
      "id": "MHIM13beeT1t"
    },
    {
      "cell_type": "markdown",
      "source": [
        "String"
      ],
      "metadata": {
        "id": "x-lYCQH5eXhX"
      },
      "id": "x-lYCQH5eXhX"
    },
    {
      "cell_type": "code",
      "source": [
        "# Entre aspas simples ou duiplas, podem adicionar qualquer tipo de dado\n",
        "textoString = 'Olá Mundo!'\n",
        "print(textoString)"
      ],
      "metadata": {
        "id": "QYym-OkjeP8E"
      },
      "id": "QYym-OkjeP8E",
      "execution_count": null,
      "outputs": []
    },
    {
      "cell_type": "code",
      "source": [
        "textoString = \"Olá Mundo!\"\n",
        "print(textoString)"
      ],
      "metadata": {
        "id": "_cJ-arlXeZWL"
      },
      "id": "_cJ-arlXeZWL",
      "execution_count": null,
      "outputs": []
    },
    {
      "cell_type": "code",
      "source": [
        "string_ = \"012345 um texto QUALQUER, !@#$% True ou False!\"\n",
        "print(string_)\n",
        "print(type(string_))"
      ],
      "metadata": {
        "id": "-YTrN6Mhee2B"
      },
      "id": "-YTrN6Mhee2B",
      "execution_count": null,
      "outputs": []
    },
    {
      "cell_type": "markdown",
      "source": [
        "Numeros inteiros"
      ],
      "metadata": {
        "id": "6OjLscNjefUk"
      },
      "id": "6OjLscNjefUk"
    },
    {
      "cell_type": "code",
      "source": [
        "numeroInteiro = 3\n",
        "print(numeroInteiro)\n",
        "print(type(numeroInteiro))"
      ],
      "metadata": {
        "id": "lQHaFFQSeiOr"
      },
      "id": "lQHaFFQSeiOr",
      "execution_count": null,
      "outputs": []
    },
    {
      "cell_type": "markdown",
      "source": [
        "Numeros decimais ou float"
      ],
      "metadata": {
        "id": "fkpyYWsxenaq"
      },
      "id": "fkpyYWsxenaq"
    },
    {
      "cell_type": "code",
      "source": [
        "numeroDecimal = 8.32\n",
        "print(numeroDecimal)\n",
        "print(type(numeroDecimal))"
      ],
      "metadata": {
        "id": "fQ-tIqEleoA4"
      },
      "id": "fQ-tIqEleoA4",
      "execution_count": null,
      "outputs": []
    },
    {
      "cell_type": "markdown",
      "source": [
        "Boleanos"
      ],
      "metadata": {
        "id": "oBL4tkwFeqfU"
      },
      "id": "oBL4tkwFeqfU"
    },
    {
      "cell_type": "code",
      "source": [
        "booleanoVerdadeiro = True\n",
        "print(booleanoVerdadeiro)\n",
        "print(type(booleanoVerdadeiro))"
      ],
      "metadata": {
        "id": "M6wLLVPcesYB"
      },
      "id": "M6wLLVPcesYB",
      "execution_count": null,
      "outputs": []
    },
    {
      "cell_type": "markdown",
      "source": [
        "## 1.0 Operadores Matemáticos e Comunicação com o Usuário <a class=\"anchor\" id=\"quatro\"></a>\n",
        "\n",
        "### Operadores Matemáticos\n",
        "\n",
        "&emsp; O Python faz operações matemáticas entre variáveis e dados puros, a seguir temos uma tabela com os operadores e suas funções:<br>\n",
        "\n",
        "| Operador | Função           |\n",
        "|----------|------------------|\n",
        "| +        | Adição           |\n",
        "| -        | Subtração        |\n",
        "| *        | Multiplicação    |\n",
        "| /        | Divisão          |\n",
        "| %        | Resto de divisão |\n",
        "| **       | Potênciação      |\n",
        "| //       | Divisão Inteira  |\n",
        "\n",
        "&emsp;"
      ],
      "metadata": {
        "id": "riGGTWlMd6A9"
      },
      "id": "riGGTWlMd6A9"
    },
    {
      "cell_type": "markdown",
      "source": [
        "##1.1 Adição"
      ],
      "metadata": {
        "id": "-EpMvexxe8v8"
      },
      "id": "-EpMvexxe8v8"
    },
    {
      "cell_type": "markdown",
      "source": [
        "###a)"
      ],
      "metadata": {
        "id": "OLgmrcjrfGPV"
      },
      "id": "OLgmrcjrfGPV"
    },
    {
      "cell_type": "code",
      "source": [
        "# Adição\n",
        "\n",
        "print(5 + 10)"
      ],
      "metadata": {
        "id": "j-MeqfSofLmt"
      },
      "id": "j-MeqfSofLmt",
      "execution_count": null,
      "outputs": []
    },
    {
      "cell_type": "markdown",
      "source": [
        "###b)"
      ],
      "metadata": {
        "id": "1Uyq0ghEfMoG"
      },
      "id": "1Uyq0ghEfMoG"
    },
    {
      "cell_type": "code",
      "source": [
        "num1 = 4\n",
        "num2 = 3.5\n",
        "adicao = num1 + num2\n",
        "print(adicao)"
      ],
      "metadata": {
        "id": "gqOM8nF0fTQF"
      },
      "id": "gqOM8nF0fTQF",
      "execution_count": null,
      "outputs": []
    },
    {
      "cell_type": "markdown",
      "source": [
        "##1.2 Subtração"
      ],
      "metadata": {
        "id": "niFp0CsSfWpe"
      },
      "id": "niFp0CsSfWpe"
    },
    {
      "cell_type": "markdown",
      "source": [
        "###a)"
      ],
      "metadata": {
        "id": "kra5LIzgfoL7"
      },
      "id": "kra5LIzgfoL7"
    },
    {
      "cell_type": "code",
      "source": [
        "print(20 - 6)"
      ],
      "metadata": {
        "id": "daNIG0Mdi-qj"
      },
      "id": "daNIG0Mdi-qj",
      "execution_count": null,
      "outputs": []
    },
    {
      "cell_type": "markdown",
      "source": [
        "###b)"
      ],
      "metadata": {
        "id": "A1mAO8nRfqSI"
      },
      "id": "A1mAO8nRfqSI"
    },
    {
      "cell_type": "code",
      "source": [
        "num1 = 4\n",
        "num2 = 3\n",
        "subtracao = num1 - num2\n",
        "print(subtracao)"
      ],
      "metadata": {
        "id": "mYzB9Cz3i817"
      },
      "id": "mYzB9Cz3i817",
      "execution_count": null,
      "outputs": []
    },
    {
      "cell_type": "markdown",
      "source": [
        "##1.3 Multiplicação"
      ],
      "metadata": {
        "id": "JPPPxy9dfxEF"
      },
      "id": "JPPPxy9dfxEF"
    },
    {
      "cell_type": "markdown",
      "source": [
        "###a)"
      ],
      "metadata": {
        "id": "pjC2iSU4fn_C"
      },
      "id": "pjC2iSU4fn_C"
    },
    {
      "cell_type": "code",
      "source": [
        "print(30 * 3)"
      ],
      "metadata": {
        "id": "IYyCRmBEjC2P"
      },
      "id": "IYyCRmBEjC2P",
      "execution_count": null,
      "outputs": []
    },
    {
      "cell_type": "markdown",
      "source": [
        "###b)"
      ],
      "metadata": {
        "id": "a4moUrPWfrBd"
      },
      "id": "a4moUrPWfrBd"
    },
    {
      "cell_type": "code",
      "source": [
        "num1 = 2\n",
        "num2 = 2\n",
        "multiplicacao = num1 * num2\n",
        "print(multiplicacao)"
      ],
      "metadata": {
        "id": "PnEvcwUujD2c"
      },
      "id": "PnEvcwUujD2c",
      "execution_count": null,
      "outputs": []
    },
    {
      "cell_type": "markdown",
      "source": [
        "##1.4 Divisão"
      ],
      "metadata": {
        "id": "_yH8pkV8f0Ao"
      },
      "id": "_yH8pkV8f0Ao"
    },
    {
      "cell_type": "markdown",
      "source": [
        "###a)"
      ],
      "metadata": {
        "id": "vc4k7ciAfnx6"
      },
      "id": "vc4k7ciAfnx6"
    },
    {
      "cell_type": "code",
      "source": [
        "print(200 / 10)"
      ],
      "metadata": {
        "id": "2tO4SFe3jKeE"
      },
      "id": "2tO4SFe3jKeE",
      "execution_count": null,
      "outputs": []
    },
    {
      "cell_type": "markdown",
      "source": [
        "###b)"
      ],
      "metadata": {
        "id": "VduAtOeKfrk_"
      },
      "id": "VduAtOeKfrk_"
    },
    {
      "cell_type": "code",
      "source": [
        "num1 = 4\n",
        "num2 = 2\n",
        "divisao = num1 / num2\n",
        "print(divisao)"
      ],
      "metadata": {
        "id": "9586Z_ffjMH0"
      },
      "id": "9586Z_ffjMH0",
      "execution_count": null,
      "outputs": []
    },
    {
      "cell_type": "markdown",
      "source": [
        "##1.5 Resto da Divisão"
      ],
      "metadata": {
        "id": "CUMvqTH4f8z5"
      },
      "id": "CUMvqTH4f8z5"
    },
    {
      "cell_type": "markdown",
      "source": [
        "###a)"
      ],
      "metadata": {
        "id": "gGgXnJIqfnjQ"
      },
      "id": "gGgXnJIqfnjQ"
    },
    {
      "cell_type": "code",
      "source": [
        "print(5 % 2)"
      ],
      "metadata": {
        "colab": {
          "base_uri": "https://localhost:8080/"
        },
        "id": "qfXt4m-kjTga",
        "outputId": "8baed946-337e-4e85-e3ed-8683173c99a3"
      },
      "id": "qfXt4m-kjTga",
      "execution_count": null,
      "outputs": [
        {
          "output_type": "stream",
          "name": "stdout",
          "text": [
            "1\n"
          ]
        }
      ]
    },
    {
      "cell_type": "markdown",
      "source": [
        "###b)"
      ],
      "metadata": {
        "id": "ruotw_prfsTQ"
      },
      "id": "ruotw_prfsTQ"
    },
    {
      "cell_type": "code",
      "source": [
        "num1 = 5\n",
        "num2 = 2\n",
        "resto = num1 % num2\n",
        "print(resto)"
      ],
      "metadata": {
        "colab": {
          "base_uri": "https://localhost:8080/"
        },
        "id": "9O4Gc_MWjXmd",
        "outputId": "91f425b5-035b-4e93-9fa9-4508ab86ef33"
      },
      "id": "9O4Gc_MWjXmd",
      "execution_count": null,
      "outputs": [
        {
          "output_type": "stream",
          "name": "stdout",
          "text": [
            "1\n"
          ]
        }
      ]
    },
    {
      "cell_type": "markdown",
      "source": [
        "##1.6 Divisão Inteira"
      ],
      "metadata": {
        "id": "hV_aUGXOgL_t"
      },
      "id": "hV_aUGXOgL_t"
    },
    {
      "cell_type": "markdown",
      "source": [
        "###a)"
      ],
      "metadata": {
        "id": "9BR0FqdyfnTN"
      },
      "id": "9BR0FqdyfnTN"
    },
    {
      "cell_type": "code",
      "source": [
        "# Divisao convencional\n",
        "print(5 / 2)\n",
        "\n",
        "# Divisao inteira\n",
        "print(5 // 2)"
      ],
      "metadata": {
        "colab": {
          "base_uri": "https://localhost:8080/"
        },
        "id": "nEHAPlxClSkt",
        "outputId": "1a039897-a53a-4c0e-d70e-26943b68a2a9"
      },
      "id": "nEHAPlxClSkt",
      "execution_count": null,
      "outputs": [
        {
          "output_type": "stream",
          "name": "stdout",
          "text": [
            "2.5\n",
            "2\n"
          ]
        }
      ]
    },
    {
      "cell_type": "markdown",
      "source": [
        "###a)"
      ],
      "metadata": {
        "id": "FTVDMOEsitw-"
      },
      "id": "FTVDMOEsitw-"
    },
    {
      "cell_type": "code",
      "source": [
        "num1 = 5\n",
        "num2 = 2\n",
        "\n",
        "# Divisao convencional\n",
        "divisao_conv = num1 / num2\n",
        "print(divisao_conv) # decimal\n",
        "print(type(divisao_conv))\n",
        "\n",
        "# Divisao inteira\n",
        "divisao_inteira = num1 // num2\n",
        "print(divisao_inteira) # inteiro\n",
        "print(type(divisao_inteira))"
      ],
      "metadata": {
        "id": "7iIUqq1CiuY9"
      },
      "id": "7iIUqq1CiuY9",
      "execution_count": null,
      "outputs": []
    },
    {
      "cell_type": "markdown",
      "source": [
        "##1.7 Potenciação"
      ],
      "metadata": {
        "id": "NSkGAUf_limB"
      },
      "id": "NSkGAUf_limB"
    },
    {
      "cell_type": "markdown",
      "source": [
        "###a)"
      ],
      "metadata": {
        "id": "-CkmU352lr7l"
      },
      "id": "-CkmU352lr7l"
    },
    {
      "cell_type": "code",
      "source": [
        "print(2**3)"
      ],
      "metadata": {
        "id": "LXcMiB1Qlupo"
      },
      "id": "LXcMiB1Qlupo",
      "execution_count": null,
      "outputs": []
    },
    {
      "cell_type": "markdown",
      "source": [
        "###b)"
      ],
      "metadata": {
        "id": "QifxnHRglreS"
      },
      "id": "QifxnHRglreS"
    },
    {
      "cell_type": "code",
      "source": [
        "num1 = 2\n",
        "num2 = 3\n",
        "potenciacao = num1 ** num2\n",
        "print(potenciacao)"
      ],
      "metadata": {
        "id": "0kvpyrmLlvRz"
      },
      "id": "0kvpyrmLlvRz",
      "execution_count": null,
      "outputs": []
    },
    {
      "cell_type": "markdown",
      "source": [
        "##2.0 Operadores lógicos de comparação\n",
        "\n",
        "Em muitos problemas de programação, há necessidade de se fazer **comparações** entre variáveis.\n",
        "\n",
        "Por exemplo:\n",
        "\n",
        "- checar se um número é maior que outro;\n",
        "- checar se uma variável é igual a outra;\n",
        "- checar se há números diferentes; etc.\n",
        "\n",
        "Para fazer essas comparações, utilizamos os **operadores lógicos de comparação**. Em Python, há 6 desses operadores:\n",
        "\n",
        "- Maior que: >\n",
        "- Maior ou igual: >=\n",
        "- Menor que: <\n",
        "- Menor ou igual: <=\n",
        "- Igual: ==\n",
        "- Diferente: !=\n",
        "\n",
        "O resultado de uma comparação sempre vai ser um booleano, isto é, **True** ou **False**!\n",
        "\n",
        "Dica: sempre leia as comparações como uma **pergunta**\n",
        "\n",
        "- Ex: \"numero < 100\", leia: \"o valor na variável numero é menor que 100?\"\n",
        "\n",
        "Os operadores de comparação são destacados em **roxo** no Jupyter"
      ],
      "metadata": {
        "id": "GSbM5atVqUGQ"
      },
      "id": "GSbM5atVqUGQ"
    },
    {
      "cell_type": "markdown",
      "source": [
        "##2.1 número é maior que outro"
      ],
      "metadata": {
        "id": "3E4dXcti1aGV"
      },
      "id": "3E4dXcti1aGV"
    },
    {
      "cell_type": "markdown",
      "source": [
        "###a)"
      ],
      "metadata": {
        "id": "MOKs5HnW1sC7"
      },
      "id": "MOKs5HnW1sC7"
    },
    {
      "cell_type": "code",
      "source": [
        "# Definindo duas variáveis para comparação\n",
        "numero1 = 75\n",
        "numero2 = 100\n",
        "\n",
        "# Checar se um número é maior que outro\n",
        "maior_que = numero1 > numero2\n",
        "print(f\"É {numero1} maior que {numero2}? {maior_que}\")"
      ],
      "metadata": {
        "id": "LRp3GREgBbOW"
      },
      "id": "LRp3GREgBbOW",
      "execution_count": null,
      "outputs": []
    },
    {
      "cell_type": "markdown",
      "source": [
        "###b)"
      ],
      "metadata": {
        "id": "gzRmj85uBcQ9"
      },
      "id": "gzRmj85uBcQ9"
    },
    {
      "cell_type": "code",
      "source": [
        "# Definindo duas strings para comparação\n",
        "string1 = \"python\"\n",
        "string2 = \"java\"\n",
        "\n",
        "# Checar se uma string é maior que outra (ordem lexicográfica)\n",
        "maior_que_str = string1 > string2\n",
        "print(f\"A string '{string1}' é maior que '{string2}'? {maior_que_str}\")"
      ],
      "metadata": {
        "id": "cMBoluudBgdw"
      },
      "id": "cMBoluudBgdw",
      "execution_count": null,
      "outputs": []
    },
    {
      "cell_type": "markdown",
      "source": [
        "##2.2 número é maior ou igual a outro"
      ],
      "metadata": {
        "id": "lXabCZkv1gNa"
      },
      "id": "lXabCZkv1gNa"
    },
    {
      "cell_type": "markdown",
      "source": [
        "###a)"
      ],
      "metadata": {
        "id": "-cI42I5N1tMi"
      },
      "id": "-cI42I5N1tMi"
    },
    {
      "cell_type": "code",
      "source": [
        "# Checar se um número é maior ou igual a outro\n",
        "maior_ou_igual = numero1 >= numero2\n",
        "print(f\"É {numero1} maior ou igual a {numero2}? {maior_ou_igual}\")"
      ],
      "metadata": {
        "id": "gvwhmzlUB0Jb"
      },
      "id": "gvwhmzlUB0Jb",
      "execution_count": null,
      "outputs": []
    },
    {
      "cell_type": "markdown",
      "source": [
        "###b)"
      ],
      "metadata": {
        "id": "0FTFygVLVfdH"
      },
      "id": "0FTFygVLVfdH"
    },
    {
      "cell_type": "code",
      "source": [
        "# Definindo duas strings para comparação\n",
        "string1 = \"python\"\n",
        "string2 = \"java\"\n",
        "\n",
        "# Checar se uma string é maior ou igual a outra\n",
        "maior_ou_igual_str = string1 >= string2\n",
        "print(f\"A string '{string1}' é maior ou igual a '{string2}'? {maior_ou_igual_str}\")"
      ],
      "metadata": {
        "id": "RAUiRcwiWta7"
      },
      "id": "RAUiRcwiWta7",
      "execution_count": null,
      "outputs": []
    },
    {
      "cell_type": "markdown",
      "source": [
        "##2.3 número é menor que outro"
      ],
      "metadata": {
        "id": "GpL3Hi_s1g7c"
      },
      "id": "GpL3Hi_s1g7c"
    },
    {
      "cell_type": "markdown",
      "source": [
        "###a)"
      ],
      "metadata": {
        "id": "1yOmc2291ubL"
      },
      "id": "1yOmc2291ubL"
    },
    {
      "cell_type": "code",
      "source": [
        "# Checar se um número é menor que outro\n",
        "menor_que = numero1 < numero2\n",
        "print(f\"É {numero1} menor que {numero2}? {menor_que}\")\n",
        "\n"
      ],
      "metadata": {
        "id": "40OPPAdCB2At"
      },
      "id": "40OPPAdCB2At",
      "execution_count": null,
      "outputs": []
    },
    {
      "cell_type": "markdown",
      "source": [
        "###b)"
      ],
      "metadata": {
        "id": "DafdJA33VgeC"
      },
      "id": "DafdJA33VgeC"
    },
    {
      "cell_type": "code",
      "source": [
        "# Definindo duas strings para comparação\n",
        "string1 = \"python\"\n",
        "string2 = \"java\"\n",
        "\n",
        "# Checar se uma string é menor que outra (ordem lexicográfica)\n",
        "menor_que_str = string1 < string2\n",
        "print(f\"A string '{string1}' é menor que '{string2}'? {menor_que_str}\")"
      ],
      "metadata": {
        "id": "-XDiz6zpWvJ5"
      },
      "id": "-XDiz6zpWvJ5",
      "execution_count": null,
      "outputs": []
    },
    {
      "cell_type": "markdown",
      "source": [
        "##2.4 número é menor ou igual a outro"
      ],
      "metadata": {
        "id": "Uccx2Ai61hkW"
      },
      "id": "Uccx2Ai61hkW"
    },
    {
      "cell_type": "markdown",
      "source": [
        "###a)"
      ],
      "metadata": {
        "id": "mI0vka0w1xPR"
      },
      "id": "mI0vka0w1xPR"
    },
    {
      "cell_type": "code",
      "source": [
        "# Checar se um número é menor ou igual a outro\n",
        "menor_ou_igual = numero1 <= numero2\n",
        "print(f\"É {numero1} menor ou igual a {numero2}? {menor_ou_igual}\")"
      ],
      "metadata": {
        "id": "E1Dqxu7-B200"
      },
      "id": "E1Dqxu7-B200",
      "execution_count": null,
      "outputs": []
    },
    {
      "cell_type": "markdown",
      "source": [
        "###b)"
      ],
      "metadata": {
        "id": "GaX7FZ49VhcC"
      },
      "id": "GaX7FZ49VhcC"
    },
    {
      "cell_type": "code",
      "source": [
        "# Definindo duas strings para comparação\n",
        "string1 = \"python\"\n",
        "string2 = \"java\"\n",
        "\n",
        "# Checar se uma string é menor ou igual a outra\n",
        "menor_ou_igual_str = string1 <= string2\n",
        "print(f\"A string '{string1}' é menor ou igual a '{string2}'? {menor_ou_igual_str}\")"
      ],
      "metadata": {
        "id": "l_0zJjY6Wv8S"
      },
      "id": "l_0zJjY6Wv8S",
      "execution_count": null,
      "outputs": []
    },
    {
      "cell_type": "markdown",
      "source": [
        "##2.5 número é igual a outro"
      ],
      "metadata": {
        "id": "zLwRmaGK1igu"
      },
      "id": "zLwRmaGK1igu"
    },
    {
      "cell_type": "markdown",
      "source": [
        "###a)"
      ],
      "metadata": {
        "id": "YogK-JrC11hD"
      },
      "id": "YogK-JrC11hD"
    },
    {
      "cell_type": "code",
      "source": [
        "# Checar se um número é igual a outro\n",
        "igual = numero1 == numero2\n",
        "print(f\"É {numero1} igual a {numero2}? {igual}\")"
      ],
      "metadata": {
        "id": "P-SsNXzWB8_d"
      },
      "id": "P-SsNXzWB8_d",
      "execution_count": null,
      "outputs": []
    },
    {
      "cell_type": "markdown",
      "source": [
        "###b)"
      ],
      "metadata": {
        "id": "qPeY-xsvVjGw"
      },
      "id": "qPeY-xsvVjGw"
    },
    {
      "cell_type": "code",
      "source": [
        "# Definindo duas strings para comparação\n",
        "string1 = \"python\"\n",
        "string2 = \"java\"\n",
        "\n",
        "# Checar se uma string é igual a outra\n",
        "igual_str = string1 == string2\n",
        "print(f\"A string '{string1}' é igual a '{string2}'? {igual_str}\")"
      ],
      "metadata": {
        "id": "isz8T980Wzzq"
      },
      "id": "isz8T980Wzzq",
      "execution_count": null,
      "outputs": []
    },
    {
      "cell_type": "markdown",
      "source": [
        "##2.6 número é Diferente a outro"
      ],
      "metadata": {
        "id": "SVl4p8MfA0Eg"
      },
      "id": "SVl4p8MfA0Eg"
    },
    {
      "cell_type": "markdown",
      "source": [
        "###a)"
      ],
      "metadata": {
        "id": "hekDLt1yA4Ku"
      },
      "id": "hekDLt1yA4Ku"
    },
    {
      "cell_type": "code",
      "source": [
        "# Checar se um número é diferente de outro\n",
        "diferente = numero1 != numero2\n",
        "print(f\"É {numero1} diferente de {numero2}? {diferente}\")"
      ],
      "metadata": {
        "id": "4C8-q24qA3lP"
      },
      "id": "4C8-q24qA3lP",
      "execution_count": null,
      "outputs": []
    },
    {
      "cell_type": "markdown",
      "source": [
        "###b)"
      ],
      "metadata": {
        "id": "k8dbIShdVkqQ"
      },
      "id": "k8dbIShdVkqQ"
    },
    {
      "cell_type": "code",
      "source": [
        "# Definindo duas strings para comparação\n",
        "string1 = \"python\"\n",
        "string2 = \"java\"\n",
        "\n",
        "# Checar se uma string é diferente de outra\n",
        "diferente_str = string1 != string2\n",
        "print(f\"A string '{string1}' é diferente de '{string2}'? {diferente_str}\")"
      ],
      "metadata": {
        "id": "2_2Yb_KjVlA9"
      },
      "id": "2_2Yb_KjVlA9",
      "execution_count": null,
      "outputs": []
    },
    {
      "cell_type": "markdown",
      "source": [
        "##3.0 Operadores lógicos de conjunção\n",
        "\n",
        "Além dos operadores lógicos de comparação, também temos os **operadores lógicos de conjunção**, que são utilizados pra fazer uma **combinação** entre comparações.\n",
        "\n",
        "Os operadores de conjunção são: **and** e **or**, e eles seguem a seguinte regra:\n",
        "\n",
        "- **and** só é True se **ambas** as comparações forem True:\n",
        "    - False and True resulta em \"False\"\n",
        "    - False and False resulta em \"False\"\n",
        "    - True and True resulta em \"True\"\n",
        "- **or** é True se **pelo menos uma** das comparações for True:\n",
        "    - False or True resulta em \"True\"\n",
        "    - True or True resulta em \"True\"\n",
        "    - False or False resulta em \"False\"\n",
        "\n",
        "Os operadores de conjunção são destacados em **verde escuro** no Jupyter"
      ],
      "metadata": {
        "id": "KsxvkmZMZfUg"
      },
      "id": "KsxvkmZMZfUg"
    },
    {
      "cell_type": "code",
      "source": [
        "print(\"Operador and:\")\n",
        "print(True and False)\n",
        "print(False and False)\n",
        "print(True and True)"
      ],
      "metadata": {
        "id": "en_AWFqJZjRS"
      },
      "id": "en_AWFqJZjRS",
      "execution_count": null,
      "outputs": []
    },
    {
      "cell_type": "code",
      "source": [
        "# True or False, resulta em True\n",
        "(2 < 5) or (2 == 5)"
      ],
      "metadata": {
        "id": "mZOb6-rSZmEX"
      },
      "id": "mZOb6-rSZmEX",
      "execution_count": null,
      "outputs": []
    },
    {
      "cell_type": "markdown",
      "source": [
        "Se tivermos mais de duas comparações pra fazer conjunção, é melhor usarmos parênteses.\n",
        "\n",
        "Primeiro a conjunção entre parênteses é feita, e depois o resultado é usado pra avaliar a conjunção total"
      ],
      "metadata": {
        "id": "wC9RcDT1aDh8"
      },
      "id": "wC9RcDT1aDh8"
    },
    {
      "cell_type": "code",
      "source": [
        "# definindo uma variável numérica\n",
        "\n",
        "# (True or False) and False\n",
        "# (True) and False\n",
        "# False\n",
        "\n",
        "2 == 2 or (10 == \"andre\" and 4.2 < -10)"
      ],
      "metadata": {
        "id": "qeQj4CXWaGxh"
      },
      "id": "qeQj4CXWaGxh",
      "execution_count": null,
      "outputs": []
    },
    {
      "cell_type": "markdown",
      "source": [
        "##3.1 Inversão de Operadores Lógicos\n",
        "\n",
        "Além de tudo que vimos temos também o operador _not_ que literalmente nega uma expressão, ou seja, se o resultado fosse true se torna false, e se false se torna true, isso serve para facilitar a lógica em cima de algumas expressões, quando você quer testar algo e rodar um pedaço de código quando a expressão **não** é satisfeita"
      ],
      "metadata": {
        "id": "KJ6Zkfx0aIoH"
      },
      "id": "KJ6Zkfx0aIoH"
    },
    {
      "cell_type": "code",
      "source": [
        "print(not(True))\n",
        "print(not(False))\n",
        "a = 10\n",
        "b = 5\n",
        "print(not(a > b))"
      ],
      "metadata": {
        "id": "VAASxS2kaKKS"
      },
      "id": "VAASxS2kaKKS",
      "execution_count": null,
      "outputs": []
    },
    {
      "cell_type": "markdown",
      "source": [
        "A inversão pode ser feita sem o uso do _not_, e é interessante aprender como fazer isso, pois assim dominaremos por completo os operadores lógicos.\n",
        "Observe a que a lógica de inversão consiste em entender os opostos dos operadores, aqui estão alguns exemplos para você entender:\n",
        "\n",
        "| Operador | Operador Invertido |\n",
        "|----------|--------------------|\n",
        "| ==       | !=                 |\n",
        "| >        | <=                 |\n",
        "| <        | >=                 |\n",
        "\n",
        "Simples não? Vamos testar"
      ],
      "metadata": {
        "id": "eJXMvupfaM7A"
      },
      "id": "eJXMvupfaM7A"
    },
    {
      "cell_type": "code",
      "source": [
        "a = 10\n",
        "print(a > 10)\n",
        "print(not(a > 10))\n",
        "print(a <= 10)"
      ],
      "metadata": {
        "id": "vywKICuoaPLC"
      },
      "id": "vywKICuoaPLC",
      "execution_count": null,
      "outputs": []
    },
    {
      "cell_type": "markdown",
      "source": [
        "Se tivermos mais de duas comparações pra fazer conjunção, é melhor usarmos parênteses.\n",
        "\n",
        "Primeiro a conjunção entre parênteses é feita, e depois o resultado é usado pra avaliar a conjunção total"
      ],
      "metadata": {
        "id": "vtZMuKePalAz"
      },
      "id": "vtZMuKePalAz"
    },
    {
      "cell_type": "code",
      "source": [
        "# definindo uma variável numérica\n",
        "\n",
        "# (True or False) and False\n",
        "# (True) and False\n",
        "# False\n",
        "\n",
        "2 == 2 or (10 == \"andre\" and 4.2 < -10)"
      ],
      "metadata": {
        "id": "G7bDu804amUN"
      },
      "id": "G7bDu804amUN",
      "execution_count": null,
      "outputs": []
    },
    {
      "cell_type": "markdown",
      "source": [
        "## Inversão de Operadores Lógicos\n",
        "\n",
        "Além de tudo que vimos temos também o operador _not_ que literalmente nega uma expressão, ou seja, se o resultado fosse true se torna false, e se false se torna true, isso serve para facilitar a lógica em cima de algumas expressões, quando você quer testar algo e rodar um pedaço de código quando a expressão **não** é satisfeita"
      ],
      "metadata": {
        "id": "53G3AjHgaqBq"
      },
      "id": "53G3AjHgaqBq"
    },
    {
      "cell_type": "code",
      "source": [
        "print(not(True))\n",
        "print(not(False))\n",
        "a = 10\n",
        "b = 5\n",
        "print(not(a > b))"
      ],
      "metadata": {
        "id": "8-IAVErQasCv"
      },
      "id": "8-IAVErQasCv",
      "execution_count": null,
      "outputs": []
    },
    {
      "cell_type": "markdown",
      "source": [
        "A inversão pode ser feita sem o uso do _not_, e é interessante aprender como fazer isso, pois assim dominaremos por completo os operadores lógicos.\n",
        "Observe a que a lógica de inversão consiste em entender os opostos dos operadores, aqui estão alguns exemplos para você entender:\n",
        "\n",
        "| Operador | Operador Invertido |\n",
        "|----------|--------------------|\n",
        "| ==       | !=                 |\n",
        "| >        | <=                 |\n",
        "| <        | >=                 |\n",
        "\n",
        "Simples não? Vamos testar"
      ],
      "metadata": {
        "id": "5QQ2RMLWaybF"
      },
      "id": "5QQ2RMLWaybF"
    },
    {
      "cell_type": "code",
      "source": [
        "a = 10\n",
        "print(a > 10)\n",
        "print(not(a > 10))\n",
        "print(a <= 10)"
      ],
      "metadata": {
        "id": "qIZwYYFVasrM"
      },
      "id": "qIZwYYFVasrM",
      "execution_count": null,
      "outputs": []
    },
    {
      "cell_type": "markdown",
      "source": [
        "##4.0 Condicionais (If)\n",
        "O condicional If tem a seguinte estrutura\n",
        "\n",
        "\n",
        "    if condicao:\n",
        "        # código a ser executado se a condição for satisfeita\n",
        "\n",
        "\n",
        "  Note que seu programa vai seguir um fluxo linha a linha e na condicional haverá um possível **desvio de fluxo**, isto é, caso a condição não seja satisfeita o código pula tudo que esta dentro do if, e o que está dentro do if? Tudo aquilo que está na **identação** do if, ou seja, está um _tab_ mais a frente que o if."
      ],
      "metadata": {
        "id": "pQyZP7CRc935"
      },
      "id": "pQyZP7CRc935"
    },
    {
      "cell_type": "markdown",
      "source": [
        "##4.1 Condicionais (Elif)\n",
        "O _elif_ deve ser lido com **se não**, portanto ele será uma nova condição que será testada **caso a condição do if (ou outros elifs acima) NÃO seja satisfeita**, e sua estrutura é a seguinte:\n",
        "\n",
        "    if condicao:\n",
        "        # codigo caso if seja satisfeito\n",
        "    elif condicaoElif:\n",
        "        # codigo caso elif satisfeito\n",
        "    elif condicaoElif2:\n",
        "        # codigo caso elif2 satisfeito\n",
        "    elif condicaoElif3:\n",
        "        # codigo caso elif3 satisfeito\n",
        "\n",
        "\n",
        "Note que podemos ter de 0 a N _elifs_, e seu código seguirá uma ordem de conferir as condições uma a uma até que uma seja satisfeita, seu código executa **e todo o resto do bloco de if elif será ignorado**. Note também que caso nenhuma condição seja satisfeita nada dentro do if e elifs é executado e o código \"passa reto\"."
      ],
      "metadata": {
        "id": "ZDulWMqOdG2m"
      },
      "id": "ZDulWMqOdG2m"
    },
    {
      "cell_type": "code",
      "source": [
        "a = 6\n",
        "\n",
        "if a > 10:\n",
        "    print(\"'a' maior que 10\")\n",
        "elif 7 < a:\n",
        "    print(\"'a' entre 7 e 10\")\n",
        "elif 3 < a:\n",
        "    print(\"'a' entre 3 e 7\")\n",
        "elif 0 <= a:\n",
        "    print(\"'a' entre 0 e 3\")\n",
        "\n",
        "print(\"Fim\")"
      ],
      "metadata": {
        "id": "zLEtvSt3dFFL"
      },
      "id": "zLEtvSt3dFFL",
      "execution_count": null,
      "outputs": []
    },
    {
      "cell_type": "markdown",
      "source": [
        "##4.2 Condicionais (Else)\n",
        "\n",
        "O else deve ser lido como um **então ou caso contrário**, ele, diferente dos exemplos acima, não tem uma condiçao, ele será colocado ao fim do bloco if e será executado **quando todas as condições anteriores forem insatisfeitas**, a estrutura com else fica da seguinte maneira:\n",
        "\n",
        "\n",
        "    if condicao:\n",
        "        # codigo caso if seja satisfeito\n",
        "    elif condicaoElif:\n",
        "        # codigo caso elif satisfeito\n",
        "    else:\n",
        "        # codigo caso if e elif insatisfeito\n",
        "\n",
        "OU\n",
        "\n",
        "    if condicao:\n",
        "        # codigo caso if seja satisfeito\n",
        "    else:\n",
        "        # codigo caso if insatisfeito\n",
        "\n",
        "Note que no contexto de _if else_ os _elifs_ são opcionais, portanto um bloco completo de _if_ pode possuir de 0 a N _elifs_ entre o _if_ e o _else_.\n"
      ],
      "metadata": {
        "id": "wkVNZqO6dPaW"
      },
      "id": "wkVNZqO6dPaW"
    },
    {
      "cell_type": "code",
      "source": [
        "# Para chegar no \"else\" preciso de qualquer valor negativo\n",
        "a = -10\n",
        "\n",
        "if a > 10:\n",
        "    print(\"'a' maior que 10\")\n",
        "elif 7 < a <= 10:\n",
        "    print(\"'a' entre +7 e 10\")\n",
        "elif 3 < a <= 7:\n",
        "    print(\"'a' entre +3 e 7\")\n",
        "elif 0 < a <= 3:\n",
        "    print(\"'a' entre +0 e 3\")\n",
        "else:\n",
        "    print(\"'a' é menor ou igual a 0\")\n",
        "\n",
        "print(\"Fim\")"
      ],
      "metadata": {
        "id": "QgYT2VAFdFC3"
      },
      "id": "QgYT2VAFdFC3",
      "execution_count": null,
      "outputs": []
    },
    {
      "cell_type": "markdown",
      "source": [
        "##4.3 Condicional Aninhada\n",
        "\n",
        "Dentro de um _if, elif ou else_ podemos ter outros blocos de _ifs_ o que chamamos de aninhamento, isto pode ser feito para facilitar leitura de código ou mesmo para validar uma segunda condição que afeitaria pouco o código da primeira, veja o exemplo:"
      ],
      "metadata": {
        "id": "BU99zM-ddWGN"
      },
      "id": "BU99zM-ddWGN"
    },
    {
      "cell_type": "code",
      "source": [
        "nome = input(\"Digite seu nome: \")\n",
        "idade = int(input(\"Digite sua idade: \"))\n",
        "\n",
        "if idade >= 18:\n",
        "    habilitado = input(\"Você tem habilitação? (S/N): \")\n",
        "    if habilitado == \"S\":\n",
        "        print(\"Olá,\", nome, \"você tem\", idade, \"anos e pode dirigir\")\n",
        "    else:\n",
        "        print(\"Olá,\", nome, \"você tem\", idade, \"anos mas não pode dirigir\")\n",
        "else:\n",
        "    print(\"Olá,\", nome, \"você é menor de idade, portanto, não pode dirigir.\")"
      ],
      "metadata": {
        "id": "-AWIz0VHdFAI"
      },
      "id": "-AWIz0VHdFAI",
      "execution_count": null,
      "outputs": []
    },
    {
      "cell_type": "markdown",
      "source": [
        "##5.0  Listas, Tuplas e Dicionários\n",
        "\n",
        " Nestas estruturas de dados, você poderá armazenar e organizar informações de maneiras diferentes. Vamos explorar cada uma delas para entender suas características, operações e quando utilizá-las.\n",
        "\n",
        " ### Listas:\n",
        "\n",
        "As listas em Python são sequências ordenadas e mutáveis de itens. Cada item pode ser de qualquer tipo, e você pode acessar os elementos por índice."
      ],
      "metadata": {
        "id": "xm7JvcTKhFQA"
      },
      "id": "xm7JvcTKhFQA"
    },
    {
      "cell_type": "code",
      "source": [
        "# Criando uma lista vazia\n",
        "lista_vazia = []"
      ],
      "metadata": {
        "id": "82h1z0fWdE8o"
      },
      "id": "82h1z0fWdE8o",
      "execution_count": null,
      "outputs": []
    },
    {
      "cell_type": "code",
      "source": [
        "print(lista_vazia)"
      ],
      "metadata": {
        "id": "G35A_KpmdE56"
      },
      "id": "G35A_KpmdE56",
      "execution_count": null,
      "outputs": []
    },
    {
      "cell_type": "code",
      "source": [
        "type(lista_vazia)"
      ],
      "metadata": {
        "id": "rMpS50-5dE2x"
      },
      "id": "rMpS50-5dE2x",
      "execution_count": null,
      "outputs": []
    },
    {
      "cell_type": "code",
      "source": [
        "# Criando uma lista heterogênea\n",
        "elementos_variados = [\"Python\", 42, 3.14, True] # Python: 0 ate n\n",
        "\n",
        "# Acessando elementos por índice\n",
        "primeiro_elemento = elementos_variados[0]\n",
        "ultimo_elemento = elementos_variados[3]\n",
        "\n",
        "print(\"Primeiro elemento:\", primeiro_elemento)\n",
        "print(\"Segundo elemento:\", ultimo_elemento)"
      ],
      "metadata": {
        "id": "e_IAkFUkn5H3"
      },
      "id": "e_IAkFUkn5H3",
      "execution_count": null,
      "outputs": []
    },
    {
      "cell_type": "code",
      "source": [
        "# Criando uma lista heterogênea\n",
        "elementos_variados = [\"Python\", 42, 3.14, True] # Python: 0 ate n\n",
        "\n",
        "# Acessando elementos por índice\n",
        "primeiro_elemento = elementos_variados[0]\n",
        "ultimo_elemento = elementos_variados[-1]\n",
        "\n",
        "print(\"Primeiro elemento:\", primeiro_elemento)\n",
        "print(\"Segundo elemento:\", ultimo_elemento)"
      ],
      "metadata": {
        "id": "i4MOCzlwn5FB"
      },
      "id": "i4MOCzlwn5FB",
      "execution_count": null,
      "outputs": []
    },
    {
      "cell_type": "markdown",
      "source": [
        "Exemplo 2: Adicionando e Removendo Elementos com append:"
      ],
      "metadata": {
        "id": "tiCsQM4on-qt"
      },
      "id": "tiCsQM4on-qt"
    },
    {
      "cell_type": "code",
      "source": [
        "# Adicionando um elemento ao final da lista usando append\n",
        "elementos_variados.append(\"Novo Elemento\")\n",
        "\n",
        "# Removendo um elemento da lista\n",
        "elementos_variados.remove(42)\n",
        "\n",
        "print(\"Lista após adição e remoção:\", elementos_variados)\n"
      ],
      "metadata": {
        "id": "ZAEdp4cnn5CT"
      },
      "id": "ZAEdp4cnn5CT",
      "execution_count": null,
      "outputs": []
    },
    {
      "cell_type": "markdown",
      "source": [
        "Exemplo 3: Tamanho da Lista e Iteração"
      ],
      "metadata": {
        "id": "Kwx5pt3VoBsH"
      },
      "id": "Kwx5pt3VoBsH"
    },
    {
      "cell_type": "markdown",
      "source": [
        "LIST COMPREHENSION\n",
        "\n",
        "\n",
        "Uma compreensão de lista é uma maneira concisa de criar listas em uma única linha."
      ],
      "metadata": {
        "id": "UyaqlUbyVX41"
      },
      "id": "UyaqlUbyVX41"
    },
    {
      "cell_type": "code",
      "source": [
        "elementos_variados = ['Python', 3.14, True, 'Novo Elemento']\n",
        "\n",
        "# List comprehension para imprimir cada elemento da lista\n",
        "[print(elemento) for elemento in elementos_variados]"
      ],
      "metadata": {
        "id": "WXe0vBtRn4_e"
      },
      "id": "WXe0vBtRn4_e",
      "execution_count": null,
      "outputs": []
    },
    {
      "cell_type": "markdown",
      "source": [
        "OBS: A razão pela qual você está vendo a lista [None, None, None, None] é porque a list comprehension está sendo usada para criar uma lista de valores None, pois a expressão dentro da list comprehension (o print(elemento)) retorna implicitamente None."
      ],
      "metadata": {
        "id": "rB3qhdveVfTM"
      },
      "id": "rB3qhdveVfTM"
    },
    {
      "cell_type": "code",
      "source": [
        "# Criando uma lista usando compreensão\n",
        "numeros_quadrado_lista = [x**2 for x in range(5)] # range == 0,1,2,3,4\n",
        "numeros_quadrado_lista"
      ],
      "metadata": {
        "id": "7IaO4MTfVN4-"
      },
      "id": "7IaO4MTfVN4-",
      "execution_count": null,
      "outputs": []
    },
    {
      "cell_type": "markdown",
      "source": [
        "##5.2 TUPLA"
      ],
      "metadata": {
        "id": "DRK1-SOrVqtE"
      },
      "id": "DRK1-SOrVqtE"
    },
    {
      "cell_type": "markdown",
      "source": [
        "Exemplo 1: Criando uma Tupla e Acessando Elementos por Índice:"
      ],
      "metadata": {
        "id": "k2BjqRcBVxJs"
      },
      "id": "k2BjqRcBVxJs"
    },
    {
      "cell_type": "code",
      "source": [
        "# Criando um tupla vazia\n",
        "tupla_vazia = ()"
      ],
      "metadata": {
        "id": "UYpZz228VNvJ"
      },
      "id": "UYpZz228VNvJ",
      "execution_count": null,
      "outputs": []
    },
    {
      "cell_type": "code",
      "source": [
        "print(tupla_vazia)"
      ],
      "metadata": {
        "id": "b59yKmJnVNkl"
      },
      "id": "b59yKmJnVNkl",
      "execution_count": null,
      "outputs": []
    },
    {
      "cell_type": "code",
      "source": [
        "type(tupla_vazia)"
      ],
      "metadata": {
        "id": "MhWC1ZvCV1lW"
      },
      "id": "MhWC1ZvCV1lW",
      "execution_count": null,
      "outputs": []
    },
    {
      "cell_type": "code",
      "source": [
        "# Criando uma tupla heterogênea\n",
        "elementos_variados_tupla = (\"Python\", 42, 3.14, True)\n",
        "\n",
        "# Acessando elementos por índice\n",
        "primeiro_elemento = elementos_variados_tupla[0]\n",
        "segundo_elemento = elementos_variados_tupla[1]\n",
        "\n",
        "print(\"Primeiro elemento:\", primeiro_elemento)\n",
        "print(\"Segundo elemento:\", segundo_elemento)"
      ],
      "metadata": {
        "id": "NyiueoWqV1i1"
      },
      "id": "NyiueoWqV1i1",
      "execution_count": null,
      "outputs": []
    },
    {
      "cell_type": "markdown",
      "source": [
        "Exemplo 2: Imutabilidade das Tuplas:"
      ],
      "metadata": {
        "id": "hXoodwPkV6Nk"
      },
      "id": "hXoodwPkV6Nk"
    },
    {
      "cell_type": "code",
      "source": [
        "# Tentativa de adicionar um elemento à tupla (resultará em erro)\n",
        "# elementos_variados_tupla.append(\"Novo Elemento\")\n",
        "\n",
        "# Tentativa de modificar um elemento da tupla (resultará em erro)\n",
        "# elementos_variados_tupla[1] = 99"
      ],
      "metadata": {
        "id": "RmYjJbJtV1gC"
      },
      "id": "RmYjJbJtV1gC",
      "execution_count": null,
      "outputs": []
    },
    {
      "cell_type": "markdown",
      "source": [
        "Exemplo 3: Tamanho da Tupla e Iteração:"
      ],
      "metadata": {
        "id": "q6lPZJCYWAJe"
      },
      "id": "q6lPZJCYWAJe"
    },
    {
      "cell_type": "code",
      "source": [
        "# Obtendo o tamanho da tupla\n",
        "tamanho_tupla = len(elementos_variados_tupla)\n",
        "\n",
        "print(\"Tamanho da tupla de frutas:\", tamanho_tupla)\n",
        "\n",
        "# Iterando sobre a tupla e imprimindo cada elemento\n",
        "print(\"Frutas na tupla:\")\n",
        "for fruta in elementos_variados_tupla:\n",
        "    print(fruta)\n"
      ],
      "metadata": {
        "id": "U4a3Ml6BV1c_"
      },
      "id": "U4a3Ml6BV1c_",
      "execution_count": null,
      "outputs": []
    },
    {
      "cell_type": "markdown",
      "source": [
        "##5.3 DICIONARIOS"
      ],
      "metadata": {
        "id": "YMvLxd2aWI8e"
      },
      "id": "YMvLxd2aWI8e"
    },
    {
      "cell_type": "code",
      "source": [
        "# Criando um dicionário vazio\n",
        "dicionario_vazio = {}"
      ],
      "metadata": {
        "id": "gAJHFQd3Xxen"
      },
      "id": "gAJHFQd3Xxen",
      "execution_count": null,
      "outputs": []
    },
    {
      "cell_type": "code",
      "source": [
        "print(dicionario_vazio)"
      ],
      "metadata": {
        "id": "CBmruxuHXxa-"
      },
      "id": "CBmruxuHXxa-",
      "execution_count": null,
      "outputs": []
    },
    {
      "cell_type": "code",
      "source": [
        "type(dicionario_vazio)"
      ],
      "metadata": {
        "id": "Qnr2V3TCXxYH"
      },
      "id": "Qnr2V3TCXxYH",
      "execution_count": null,
      "outputs": []
    },
    {
      "cell_type": "code",
      "source": [
        "# Criando um dicionário com pares chave-valor\n",
        "aluno = {\n",
        "    \"nome\": \"Ana\",\n",
        "    \"idade\": 22,\n",
        "    \"curso\": \"Machine Learning Engineering\",\n",
        "    \"instituição\": \"FIAP\"\n",
        "}"
      ],
      "metadata": {
        "id": "Rjph4CQ0XxVn"
      },
      "id": "Rjph4CQ0XxVn",
      "execution_count": null,
      "outputs": []
    },
    {
      "cell_type": "markdown",
      "source": [
        "Exemplo 2: Acessando Elementos por Chave:"
      ],
      "metadata": {
        "id": "iqQ8yyofX55T"
      },
      "id": "iqQ8yyofX55T"
    },
    {
      "cell_type": "code",
      "source": [
        "print(aluno)"
      ],
      "metadata": {
        "id": "pR6o4TUNXxSx"
      },
      "id": "pR6o4TUNXxSx",
      "execution_count": null,
      "outputs": []
    },
    {
      "cell_type": "code",
      "source": [
        "# Acessando elementos por chave\n",
        "nome_aluno = aluno[\"nome\"]\n",
        "instituicao_aluno = aluno[\"instituição\"]\n",
        "\n",
        "print(\"Nome do aluno:\", nome_aluno)\n",
        "print(\"instituição:\", instituicao_aluno)"
      ],
      "metadata": {
        "id": "whJBDWeQXxPf"
      },
      "id": "whJBDWeQXxPf",
      "execution_count": null,
      "outputs": []
    },
    {
      "cell_type": "code",
      "source": [
        "aluno"
      ],
      "metadata": {
        "id": "a1vqmT0YX_6z"
      },
      "id": "a1vqmT0YX_6z",
      "execution_count": null,
      "outputs": []
    },
    {
      "cell_type": "code",
      "source": [
        "# Adicionando um novo par chave-valor\n",
        "aluno[\"disciplina\"] = \"Python para ML e IA\"\n",
        "aluno[\"nota\"] = 9.5"
      ],
      "metadata": {
        "id": "1JvFhPLfX_3W"
      },
      "id": "1JvFhPLfX_3W",
      "execution_count": null,
      "outputs": []
    },
    {
      "cell_type": "code",
      "source": [
        "aluno"
      ],
      "metadata": {
        "id": "wijmR-_TX_0n"
      },
      "id": "wijmR-_TX_0n",
      "execution_count": null,
      "outputs": []
    },
    {
      "cell_type": "code",
      "source": [
        "# Removendo um elemento do dicionário\n",
        "del aluno[\"idade\"]"
      ],
      "metadata": {
        "id": "ow8pRU-uX_yC"
      },
      "id": "ow8pRU-uX_yC",
      "execution_count": null,
      "outputs": []
    },
    {
      "cell_type": "code",
      "source": [
        "aluno"
      ],
      "metadata": {
        "id": "JmipEOz1X_u8"
      },
      "id": "JmipEOz1X_u8",
      "execution_count": null,
      "outputs": []
    },
    {
      "cell_type": "code",
      "source": [
        "Exemplo 4: Verificando Existência de Chaves:"
      ],
      "metadata": {
        "id": "9y9f9bAqX_tD"
      },
      "id": "9y9f9bAqX_tD",
      "execution_count": null,
      "outputs": []
    },
    {
      "cell_type": "code",
      "source": [
        "# Verificando existência de chave\n",
        "tem_curso = \"curso\" in aluno\n",
        "tem_altura = \"altura\" in aluno\n",
        "\n",
        "print(\"Tem chave 'curso'?\", tem_curso)\n",
        "print(\"Tem chave 'altura'?\", tem_altura)\n"
      ],
      "metadata": {
        "id": "H6tOSrXUX_pm"
      },
      "id": "H6tOSrXUX_pm",
      "execution_count": null,
      "outputs": []
    },
    {
      "cell_type": "code",
      "source": [
        "Exemplo 5: Chaves e Valores:"
      ],
      "metadata": {
        "id": "eFx3Ml74X_nG"
      },
      "id": "eFx3Ml74X_nG",
      "execution_count": null,
      "outputs": []
    },
    {
      "cell_type": "code",
      "source": [
        "# Obtendo todas as chaves e valores\n",
        "chaves = aluno.keys()\n",
        "valores = aluno.values()\n",
        "\n",
        "print(\"Chaves do dicionário:\", chaves)\n",
        "print(\"Valores do dicionário:\", valores)\n"
      ],
      "metadata": {
        "id": "uxSSdseGX_j-"
      },
      "id": "uxSSdseGX_j-",
      "execution_count": null,
      "outputs": []
    },
    {
      "cell_type": "markdown",
      "source": [
        "Existem outas funcionalidades que fazem os dicionários serem extremamente usuais para os desenvolvedores:"
      ],
      "metadata": {
        "id": "Y52viMX2YVEs"
      },
      "id": "Y52viMX2YVEs"
    },
    {
      "cell_type": "code",
      "source": [
        "#### ITERAÇÃO\n",
        "\n",
        "items() retorna uma visão de pares chave-valor, permitindo a iteração simultânea sobre chaves e valores."
      ],
      "metadata": {
        "id": "OPEzUO-0X_fL"
      },
      "id": "OPEzUO-0X_fL",
      "execution_count": null,
      "outputs": []
    },
    {
      "cell_type": "code",
      "source": [
        "# Iterando sobre chaves e valores simultaneamente\n",
        "for chave, valor in aluno.items():\n",
        "    print(f\"{chave}: {valor}\")"
      ],
      "metadata": {
        "id": "oMkcUOH0X_bp"
      },
      "id": "oMkcUOH0X_bp",
      "execution_count": null,
      "outputs": []
    },
    {
      "cell_type": "markdown",
      "source": [
        "###5.3.1 MÉTODO UPDATE\n",
        "\n",
        "update(outro_dicionario) adiciona os pares chave-valor de outro_dicionario ao dicionário existente."
      ],
      "metadata": {
        "id": "ydCAEHWVawNS"
      },
      "id": "ydCAEHWVawNS"
    },
    {
      "cell_type": "code",
      "source": [
        "# Atualizando o dicionário com novos pares chave-valor\n",
        "aluno.update(\n",
        "    {\n",
        "        \"altura\": 1.75,\n",
        "        \"skill\": \"Proeficiência em Python\"\n",
        "     }\n",
        "    )\n",
        "aluno"
      ],
      "metadata": {
        "id": "e0d36HhAX_VZ"
      },
      "id": "e0d36HhAX_VZ",
      "execution_count": null,
      "outputs": []
    },
    {
      "cell_type": "markdown",
      "source": [
        "### 5.3.2 DICT COMPREHENSION\n",
        "\n",
        "Uma compreensão de dicionário é uma maneira concisa de criar dicionários em uma única linha."
      ],
      "metadata": {
        "id": "9BrC-tp3X-Dl"
      },
      "id": "9BrC-tp3X-Dl"
    },
    {
      "cell_type": "code",
      "source": [
        "# Criando um dicionário usando compreensão\n",
        "numeros_quadrado = {x: x**2 for x in range(5)}\n",
        "numeros_quadrado"
      ],
      "metadata": {
        "id": "uDENfAmLbDAz"
      },
      "id": "uDENfAmLbDAz",
      "execution_count": null,
      "outputs": []
    },
    {
      "cell_type": "markdown",
      "source": [
        "##6.0 Laços de repetição (while)\n",
        "\n",
        "Uma das utilidades de linguagens de programação é a de automatizar tarefas que são repetitivas.\n",
        "\n",
        "Mas, pra isso ser viável, seria bom se tivéssemos uma estrutura para **repetir comandos**, não é mesmo?\n",
        "\n",
        "Imagine que eu queira exibir na tela \"Olá, mundo!\" 5 vezes. Podemos fazer:"
      ],
      "metadata": {
        "id": "gTKcyIncbwAp"
      },
      "id": "gTKcyIncbwAp"
    },
    {
      "cell_type": "code",
      "source": [
        "print(\"Olá, mundo!\")\n",
        "print(\"Olá, mundo!\")\n",
        "print(\"Olá, mundo!\")\n",
        "print(\"Olá, mundo!\")\n",
        "print(\"Olá, mundo!\")"
      ],
      "metadata": {
        "id": "Y3C0RkXOa31f"
      },
      "id": "Y3C0RkXOa31f",
      "execution_count": null,
      "outputs": []
    },
    {
      "cell_type": "markdown",
      "source": [
        "Mas, e se eu quiser exibir essa mensagem 1000 vezes? Ou 1 milhão de vezes? Não é ideal escrevermos o mesmo pedaço de código tantas vezes, né?\n",
        "\n",
        "Para isso, existem os **laços de repetição**, que permitem repetir pedaços de código quantas vezes desejarmos!\n",
        "\n",
        "O primeiro laço que vamos ver é o **while**. Este laço tem a seguinte estrutura:\n",
        "\n",
        "```python\n",
        "while (condicao é True):\n",
        "    operacao_repetida\n",
        "```\n",
        "\n",
        "Ou seja, o que tá no bloco do while é repetido **enquanto a condição for verdadeira**"
      ],
      "metadata": {
        "id": "jLqw-SyFbztg"
      },
      "id": "jLqw-SyFbztg"
    },
    {
      "cell_type": "markdown",
      "source": [
        "Isso pode levar a **loops infinitos**"
      ],
      "metadata": {
        "id": "ai4MHI2rb35m"
      },
      "id": "ai4MHI2rb35m"
    },
    {
      "cell_type": "code",
      "source": [
        "# Repetido enquanto a condição for verdadeira!\n",
        "while 2==2: # Sempre será verdadeira, portanto, laço infinito\n",
        "    print(\"Olá, mundo\")"
      ],
      "metadata": {
        "id": "VCYjmT34a3y2"
      },
      "id": "VCYjmT34a3y2",
      "execution_count": null,
      "outputs": []
    },
    {
      "cell_type": "markdown",
      "source": [
        "Para que loops infinitos não aconteçam, temos que fazer uma **atualização da condição** a cada iteração do laço!\n",
        "\n",
        "Isso é, temos que **atualizar** a variavel que contabiliza as repetições no loop\n",
        "\n",
        "Assim, o que fazemos é **definir a condição do while em termos de uma variável que tenha seu valor atualizado!**\n",
        "\n",
        "Para isso, é comum nos referirmos à variàvel da condição como **variável contadora**.\n",
        "\n",
        "Para atualizar a variável contadora dentro do while, em geral a atualizamos em +1"
      ],
      "metadata": {
        "id": "BFj7kgSqb-Mh"
      },
      "id": "BFj7kgSqb-Mh"
    },
    {
      "cell_type": "code",
      "source": [
        "cont = 0\n",
        "\n",
        "while cont < 5: # considera o 4 por ser excludente: cont < 5 é igual cont < (5-1)\n",
        "    print(\"Olá mundo\")\n",
        "    cont = cont + 1 # cont += 1"
      ],
      "metadata": {
        "id": "rV7bmWoka3wG"
      },
      "id": "rV7bmWoka3wG",
      "execution_count": null,
      "outputs": []
    },
    {
      "cell_type": "markdown",
      "source": [
        "Vamos entender um pouco melhor como a variável contadora se comporta?\n",
        "\n",
        "Pra isso, basta exibi-la a cada iteração:\n",
        "O código acima equivale a:"
      ],
      "metadata": {
        "id": "BAM0mChEcIyf"
      },
      "id": "BAM0mChEcIyf"
    },
    {
      "cell_type": "code",
      "source": [
        "# inicialmente, a variavel cont vale 0\n",
        "\n",
        "# pegamos o valor anterior (0) e somamos 1, ficando 1\n",
        "\n",
        "# pegamos o valor anterior (1) e somamos 1, ficando 2\n",
        "\n",
        "# pegamos o valor anterior (2) e somamos 1, ficando 3\n",
        "\n",
        "# pegamos o valor anterior (3) e somamos 1, ficando 4\n"
      ],
      "metadata": {
        "id": "yWzCEjk9a3rG"
      },
      "id": "yWzCEjk9a3rG",
      "execution_count": null,
      "outputs": []
    },
    {
      "cell_type": "markdown",
      "source": [
        "Usar a condição com < ao invés de != em geral garante maior segurança ao seu algoritmo, pois evita imprevistos caso você receba números do usuário!\n",
        "Podemos também atualizar a condição de repetição segundo informado pelo usuário\n",
        "\n",
        "Esse uso é bem importante para **garantir que o usuário digitou corretamente o que foi solicitado**\n",
        "\n",
        "Por exemplo, vamos pedir pro usuário digitar um número maior que 10. **Enquanto ele não fizer o que queremos**, vamos continuar pedindo pra ele digitar um novo valor:"
      ],
      "metadata": {
        "id": "yE2vvpwHcSY6"
      },
      "id": "yE2vvpwHcSY6"
    },
    {
      "cell_type": "code",
      "source": [
        "numero = 0\n",
        "\n",
        "# Enquanto o numero for menor que 10:\n",
        "while numero <= 10:\n",
        "    # Conntinua executando essa ação\n",
        "    numero = int(input(\"Digite um numero maior que 10: \"))\n",
        "\n",
        "# Só será impresso o valor digitado na tela, quando o valor digitado não mais atender a condição.\n",
        "print(\"O numero digitado foi: \", numero)"
      ],
      "metadata": {
        "id": "cv0CWS6La3nq"
      },
      "id": "cv0CWS6La3nq",
      "execution_count": null,
      "outputs": []
    },
    {
      "cell_type": "markdown",
      "source": [
        "##7.0 break, continue e else\n",
        "\n",
        "O while pode ser parado no meio com o break, isso é utilizado caso exista algum(ns) casos excepcionais onde seu código deve parar ou mesmo para poupar processamento em um loop que já fez o que precisava e usava a condição inicial apenas como limite de iterações."
      ],
      "metadata": {
        "id": "lrPVyrf8c1Hh"
      },
      "id": "lrPVyrf8c1Hh"
    },
    {
      "cell_type": "markdown",
      "source": [
        "##7.1BREAK"
      ],
      "metadata": {
        "id": "_zoS_DW1c2ZM"
      },
      "id": "_zoS_DW1c2ZM"
    },
    {
      "cell_type": "code",
      "source": [
        "contador = 0  # Inicializa o contador em 0\n",
        "\n",
        "while contador < 10:  # Inicia um loop while que continua enquanto o contador for menor que 10\n",
        "    print(f\"Contador: {contador}\")  # Imprime o valor atual do contador\n",
        "    contador += 1  # Incrementa o contador em 1\n",
        "\n",
        "    if contador == 5:\n",
        "        print(\"Encontrou o número 5! Vamos parar o loop.\")\n",
        "        break  # Se o contador atingir 5, encerra o loop imediatamente com a instrução break\n",
        "\n",
        "print(\"Fim do programa.\")\n"
      ],
      "metadata": {
        "id": "Mi54QwvnchTZ"
      },
      "id": "Mi54QwvnchTZ",
      "execution_count": null,
      "outputs": []
    },
    {
      "cell_type": "markdown",
      "source": [
        "##7.2 CONTINUE"
      ],
      "metadata": {
        "id": "uwHKMKbUc61C"
      },
      "id": "uwHKMKbUc61C"
    },
    {
      "cell_type": "code",
      "source": [
        "contador = 0  # Inicializa o contador em 0\n",
        "\n",
        "while contador < 10:  # Inicia um loop while que continua enquanto o contador for menor que 10\n",
        "    print(f\"Contador: {contador}\")  # Imprime o valor atual do contador\n",
        "    contador += 1  # Incrementa o contador em 1\n",
        "\n",
        "    if contador % 2 == 0:\n",
        "        print(\"Número par encontrado. Vamos pular para a próxima iteração.\")\n",
        "        continue  # Se o contador for par, pula para a próxima iteração sem executar o restante do código no loop\n",
        "\n",
        "print(\"Fim do programa.\")\n"
      ],
      "metadata": {
        "id": "x9KryCzBchQ4"
      },
      "id": "x9KryCzBchQ4",
      "execution_count": null,
      "outputs": []
    },
    {
      "cell_type": "markdown",
      "source": [
        "## 7.3 USO DO \"ELSE\" NO \"LOOP WHILE\""
      ],
      "metadata": {
        "id": "evItTwxVd5uS"
      },
      "id": "evItTwxVd5uS"
    },
    {
      "cell_type": "code",
      "source": [
        "contador = 6  # Inicializa o contador em 0\n",
        "\n",
        "while contador < 10:  # Inicia um loop while que continua enquanto o contador for menor que 10\n",
        "    print(f\"Contador: {contador}\")  # Imprime o valor atual do contador\n",
        "    contador += 1  # Incrementa o contador em 1\n",
        "\n",
        "    if contador == 5:\n",
        "        print(\"Encontrou o número 5! Vamos parar o loop.\")\n",
        "        break\n",
        "\n",
        "else:\n",
        "    print(\"Loop concluído sem interrupções inesperadas.\")\n",
        "    # O bloco else associado ao loop while é executado se o loop for concluído normalmente, sem ser interrompido por um break\n",
        "\n",
        "print(\"Fim do programa.\")\n"
      ],
      "metadata": {
        "id": "P4omRZPschN4"
      },
      "id": "P4omRZPschN4",
      "execution_count": null,
      "outputs": []
    },
    {
      "cell_type": "markdown",
      "source": [
        "##8.0 Laços de repetição (for)\n",
        "\n",
        "Na última aula, vimos como usar o laço de repetição \"while\" para repetir operações em Python\n",
        "\n",
        "Agora, veremos um outro laço, o **for**\n",
        "\n",
        "Mas, antes de vermos como este laço pode ser utilizado para **repetir operações**, é interessante entender o `for` como sendo, na realidade, um operador utilizado para **percorrer elementos de uma lista** (na verdade, de qualquer objeto **iterável**. Conheceremos outros objetos assim mais pra frente...)\n",
        "\n",
        "A estrutura do for é:\n",
        "\n",
        "```python\n",
        "for item in lista:\n",
        "    operacao_feita_pra_cada_item\n",
        "```"
      ],
      "metadata": {
        "id": "Yxs--LkPeNtt"
      },
      "id": "Yxs--LkPeNtt"
    },
    {
      "cell_type": "code",
      "source": [
        "lista = [\"a\", \"b\", \"c\", \"d\"]\n",
        "\n",
        "for item in lista:\n",
        "    print(item)"
      ],
      "metadata": {
        "id": "hOVCeZuQchK8"
      },
      "id": "hOVCeZuQchK8",
      "execution_count": null,
      "outputs": []
    },
    {
      "cell_type": "markdown",
      "source": [
        "O código acima é equivalente a:"
      ],
      "metadata": {
        "id": "7Dsq4e7ZeV6n"
      },
      "id": "7Dsq4e7ZeV6n"
    },
    {
      "cell_type": "code",
      "source": [
        "lista = [\"a\", \"b\", \"c\", \"d\"]\n",
        "\n",
        "print(lista[0])\n",
        "print(lista[1])\n",
        "print(lista[2])\n",
        "print(lista[3])"
      ],
      "metadata": {
        "id": "ypD-BxuZchH9"
      },
      "id": "ypD-BxuZchH9",
      "execution_count": null,
      "outputs": []
    },
    {
      "cell_type": "markdown",
      "source": [
        "Separando os valores de uma lista em duas listas distintas:"
      ],
      "metadata": {
        "id": "F1ecokYeee8k"
      },
      "id": "F1ecokYeee8k"
    },
    {
      "cell_type": "code",
      "source": [
        "# Criando uma lista de números\n",
        "lista = [4, 5, 6, 5, -6, 56, 7, -10, 78, 80, 9]\n",
        "\n",
        "# Inicializando listas vazias para armazenar números negativos e positivos\n",
        "lista_neg = []\n",
        "lista_pos = []\n",
        "\n",
        "# Iterando sobre cada elemento da lista\n",
        "for x in lista:\n",
        "    # Verificando se o elemento é negativo\n",
        "    if x < 0:\n",
        "        # Se for negativo, adiciona à lista_neg\n",
        "        lista_neg.append(x)\n",
        "    else:\n",
        "        # Se for não negativo, adiciona à lista_pos\n",
        "        lista_pos.append(x)\n",
        "\n",
        "# Imprimindo as listas resultantes\n",
        "print(\"Números positivos:\", lista_pos)\n",
        "print(\"Números negativos:\", lista_neg)"
      ],
      "metadata": {
        "id": "55rK9g-GchEv"
      },
      "id": "55rK9g-GchEv",
      "execution_count": null,
      "outputs": []
    },
    {
      "cell_type": "markdown",
      "source": [
        "Podemos fazer operações com os elementos de umas lista e usá-los pra preencher outra lista:"
      ],
      "metadata": {
        "id": "MCtEer-NfhQT"
      },
      "id": "MCtEer-NfhQT"
    },
    {
      "cell_type": "code",
      "source": [
        "# Criando uma lista de números\n",
        "lista = [1, 2, 3, 5, 153, -56]\n",
        "\n",
        "# Inicializando uma lista vazia para armazenar o dobro de cada elemento\n",
        "lista_dobro = []\n",
        "\n",
        "# Iterando sobre cada elemento da lista\n",
        "for elemento in lista:\n",
        "    # Multiplicando cada elemento por 2 e adicionando à lista_dobro\n",
        "    lista_dobro.append(2 * elemento)\n",
        "\n",
        "# Imprimindo a lista resultante\n",
        "print(\"Lista com o dobro de cada elemento:\", lista_dobro)\n"
      ],
      "metadata": {
        "id": "v5PRVVnofi71"
      },
      "id": "v5PRVVnofi71",
      "execution_count": null,
      "outputs": []
    },
    {
      "cell_type": "markdown",
      "source": [
        "##10 Funções"
      ],
      "metadata": {
        "id": "qOFGRCl3f3sF"
      },
      "id": "qOFGRCl3f3sF"
    },
    {
      "cell_type": "markdown",
      "source": [
        "\n",
        "A intuição sobre funções, então, já nos é familiar:\n",
        "\n",
        "Uma função é um objeto utilizado para **fazer determinadas ações**.\n",
        "\n",
        "Podemos ver uma função como uma \"caixinha\" que pega uma **entrada** (o argumento), faz algum **processamento**, e então **retorna uma saída** (o output)"
      ],
      "metadata": {
        "id": "olxuphf1f-CA"
      },
      "id": "olxuphf1f-CA"
    },
    {
      "cell_type": "markdown",
      "source": [
        "A estrutura de **definição de uma função** é dada por:\n",
        "\n",
        "```python\n",
        "def nome_da_funcao(argumentos):\n",
        "    \n",
        "    instrucoes\n",
        "    \n",
        "    return saida\n",
        "```\n",
        "Há 5 elementos fundamentais para a criação de novas funções em Python:\n",
        "\n",
        "- Primeiramente, usamos \"def\" para deixar claro que estamos **definindo** uma função;\n",
        "- Depois, damos um **nome** para nossa função;\n",
        "- Em parênteses, falamos quais serão os **argumentos** da função -- esses são os inputs, e em python, esses elementos são opcionais!\n",
        "- Depois, explicitamos qual é o **processamento** feito pela função;\n",
        "- Ao fim, dizemos o que a função irá **retornar** -- esses são os outputs, e em Python esse elemento é opcional!\n",
        "\n",
        "Sempre que quisermos **executar** uma função, basta **chamá-la**, dando os argumentos desejados!\n",
        "\n",
        "```python\n",
        "nome_da_funcao(argumentos)\n",
        "```"
      ],
      "metadata": {
        "id": "NjpWZ6VQgC4k"
      },
      "id": "NjpWZ6VQgC4k"
    },
    {
      "cell_type": "markdown",
      "source": [
        "__Uma função sem argumentos e sem return__\n",
        "\n",
        "Apenas imprime algo na tela, mas sempre A MESMA COISA\n"
      ],
      "metadata": {
        "id": "joKLKuFCgNe3"
      },
      "id": "joKLKuFCgNe3"
    },
    {
      "cell_type": "code",
      "source": [
        "def cumprimenta():\n",
        "\n",
        "    print(\"Olá!\")"
      ],
      "metadata": {
        "id": "mWzczOJsfi4l"
      },
      "id": "mWzczOJsfi4l",
      "execution_count": null,
      "outputs": []
    },
    {
      "cell_type": "code",
      "source": [
        "cumprimenta()"
      ],
      "metadata": {
        "id": "3ogP4pfifi0F"
      },
      "id": "3ogP4pfifi0F",
      "execution_count": null,
      "outputs": []
    },
    {
      "cell_type": "markdown",
      "source": [
        "__Uma função com argumento, mas sem return__\n",
        "\n",
        "Imprime o que eu mandar na tela, como argumento!"
      ],
      "metadata": {
        "id": "zQpvX79tgTRT"
      },
      "id": "zQpvX79tgTRT"
    },
    {
      "cell_type": "code",
      "source": [
        "def cumprimenta(x):\n",
        "\n",
        "    print(\"Olá,\", x)"
      ],
      "metadata": {
        "id": "MhjcncrBfiwe"
      },
      "id": "MhjcncrBfiwe",
      "execution_count": null,
      "outputs": []
    },
    {
      "cell_type": "code",
      "source": [
        "cumprimenta(\"João\")"
      ],
      "metadata": {
        "id": "2PfXhtbjgeXe"
      },
      "id": "2PfXhtbjgeXe",
      "execution_count": null,
      "outputs": []
    },
    {
      "cell_type": "markdown",
      "source": [
        "__Uma função com dois argumentos, mas ainda sem return__\n",
        "\n",
        "Imprime algo na tela, mas dependendo do segundo argumento que eu passar"
      ],
      "metadata": {
        "id": "4cnIvdxWggpI"
      },
      "id": "4cnIvdxWggpI"
    },
    {
      "cell_type": "code",
      "source": [
        "def cumprimenta_horario(nome, hora):\n",
        "\n",
        "    if hora < 12:\n",
        "        print(\"Bom dia,\", nome)\n",
        "\n",
        "    elif hora < 19:\n",
        "        print(\"Boa tarde,\", nome)\n",
        "\n",
        "    else:\n",
        "        print(\"Boa noite,\", nome)\n",
        "\n"
      ],
      "metadata": {
        "id": "-10TcTsigbZl"
      },
      "id": "-10TcTsigbZl",
      "execution_count": null,
      "outputs": []
    },
    {
      "cell_type": "code",
      "source": [
        "cumprimenta_horario(nome = \"André\", hora = 14)"
      ],
      "metadata": {
        "id": "BLk2UT89gbR_"
      },
      "id": "BLk2UT89gbR_",
      "execution_count": null,
      "outputs": []
    },
    {
      "cell_type": "markdown",
      "source": [
        "__Mas e o return?__\n",
        "\n",
        "\n",
        "Todas as funções acima de fato fazem alguma operação, mas nõs não conseguimos **acessar** o resultado das operações! Veja um exemplo mais claro: uma função que calcula a soma de dois números:"
      ],
      "metadata": {
        "id": "asXAb4HChxWG"
      },
      "id": "asXAb4HChxWG"
    },
    {
      "cell_type": "code",
      "source": [
        "def calc_soma(n1, n2):\n",
        "\n",
        "    soma = n1 + n2\n",
        "\n",
        "    print(soma)"
      ],
      "metadata": {
        "id": "dTvjKJ4ogbOn"
      },
      "id": "dTvjKJ4ogbOn",
      "execution_count": null,
      "outputs": []
    },
    {
      "cell_type": "code",
      "source": [
        "calc_soma(10, 32)"
      ],
      "metadata": {
        "id": "93oeGACkh3xo"
      },
      "id": "93oeGACkh3xo",
      "execution_count": null,
      "outputs": []
    },
    {
      "cell_type": "markdown",
      "source": [
        "Note que a função calcula a soma dos números, mas apenas exibe este resultado com o print!\n",
        "\n",
        "**A variável \"soma\" é uma variável que existe apenas no interior da função!!**"
      ],
      "metadata": {
        "id": "rOqRnUhmgaqK"
      },
      "id": "rOqRnUhmgaqK"
    },
    {
      "cell_type": "code",
      "source": [
        "soma"
      ],
      "metadata": {
        "id": "HaRwsVP7h6em"
      },
      "id": "HaRwsVP7h6em",
      "execution_count": null,
      "outputs": []
    },
    {
      "cell_type": "markdown",
      "source": [
        "Se quisermos armazenar o valor da soma, podemos **retornar** o valor desta variável!\n",
        "\n",
        "**OBS.:** apenas o **valor** da variável é retornado, não o nome dela!!\n",
        "\n",
        "Fora da função, o nome de variável \"soma\" ainda continua não existindo!!"
      ],
      "metadata": {
        "id": "AN_iooKih7Dg"
      },
      "id": "AN_iooKih7Dg"
    },
    {
      "cell_type": "code",
      "source": [
        "def calc_soma(n1, n2):\n",
        "\n",
        "    soma = n1 + n2\n",
        "\n",
        "    return soma"
      ],
      "metadata": {
        "id": "SsMMq9rwiyF0"
      },
      "id": "SsMMq9rwiyF0",
      "execution_count": null,
      "outputs": []
    },
    {
      "cell_type": "code",
      "source": [
        "calc_soma(2, 4)"
      ],
      "metadata": {
        "id": "NpibMI_5iym3"
      },
      "id": "NpibMI_5iym3",
      "execution_count": null,
      "outputs": []
    },
    {
      "cell_type": "markdown",
      "source": [
        "Daí, basta armazenar o resultado retornado em uma variável, **como fazíamos com o input()!**"
      ],
      "metadata": {
        "id": "HFGaXm95i3H1"
      },
      "id": "HFGaXm95i3H1"
    },
    {
      "cell_type": "code",
      "source": [
        "resultado = calc_soma(2, 4)\n",
        "\n",
        "resultado"
      ],
      "metadata": {
        "id": "LVLQRddJi5Zv"
      },
      "id": "LVLQRddJi5Zv",
      "execution_count": null,
      "outputs": []
    },
    {
      "cell_type": "code",
      "source": [
        "def nova_area(b, h):\n",
        "\n",
        "    calculo_area = (b * h) # inserir b e h em metros\n",
        "\n",
        "    if calculo_area <= 10000:\n",
        "        return calculo_area, \"Até 1 hectare\"\n",
        "    elif calculo_area > 10000 and calculo_area <= 50000:\n",
        "        return calculo_area, \"Entre 1 e 5 hectares\"\n",
        "    else:\n",
        "        return calculo_area, \"Mais de 5 hectares\""
      ],
      "metadata": {
        "id": "DwijXaGMmtdU"
      },
      "id": "DwijXaGMmtdU",
      "execution_count": null,
      "outputs": []
    },
    {
      "cell_type": "code",
      "source": [
        "print(nova_area(300, 25))\n",
        "print(nova_area(200,100))\n",
        "print(nova_area(500, 300))"
      ],
      "metadata": {
        "id": "dtMKDhhQm2-5"
      },
      "id": "dtMKDhhQm2-5",
      "execution_count": null,
      "outputs": []
    },
    {
      "cell_type": "markdown",
      "source": [
        "###10.1 Funções recursivas\n",
        "\n",
        "Um aspecto bem legal sobre funções é a **recursividade**\n",
        "\n",
        "Podemos chamar uma função dentro de outra função? Sim!\n",
        "\n",
        "Podemos fazer uma função que calcula a média entre dois números, utilizando a função que calcula a soma entre dois números"
      ],
      "metadata": {
        "id": "sodruHMNlTUk"
      },
      "id": "sodruHMNlTUk"
    },
    {
      "cell_type": "code",
      "source": [
        "def soma_dois_numeros(x, y):\n",
        "\n",
        "    soma = x + y\n",
        "\n",
        "    return soma"
      ],
      "metadata": {
        "id": "gC5eVgIzmO6s"
      },
      "id": "gC5eVgIzmO6s",
      "execution_count": null,
      "outputs": []
    },
    {
      "cell_type": "code",
      "source": [
        "def media(num1, num2):\n",
        "\n",
        "    media = soma_dois_numeros(num1, num2)/2\n",
        "\n",
        "    return media\n",
        "\n",
        "media_notas = media(4, 7)\n",
        "\n",
        "print(media_notas)"
      ],
      "metadata": {
        "id": "MMm6eeRkmQAc"
      },
      "id": "MMm6eeRkmQAc",
      "execution_count": null,
      "outputs": []
    }
  ],
  "metadata": {
    "jupytext": {
      "cell_metadata_filter": "title,-all",
      "encoding": "# -*- coding: utf-8 -*-",
      "main_language": "python",
      "notebook_metadata_filter": "-all"
    },
    "colab": {
      "provenance": [],
      "toc_visible": true,
      "include_colab_link": true
    },
    "language_info": {
      "name": "python"
    },
    "kernelspec": {
      "name": "python3",
      "display_name": "Python 3"
    }
  },
  "nbformat": 4,
  "nbformat_minor": 5
}